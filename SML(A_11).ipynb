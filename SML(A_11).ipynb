{
  "nbformat": 4,
  "nbformat_minor": 0,
  "metadata": {
    "colab": {
      "provenance": [],
      "authorship_tag": "ABX9TyPV5vaGfWuOVvx4krcL+ykp",
      "include_colab_link": true
    },
    "kernelspec": {
      "name": "python3",
      "display_name": "Python 3"
    },
    "language_info": {
      "name": "python"
    }
  },
  "cells": [
    {
      "cell_type": "markdown",
      "metadata": {
        "id": "view-in-github",
        "colab_type": "text"
      },
      "source": [
        "<a href=\"https://colab.research.google.com/github/2303A52123/23CSBTB39-40/blob/main/SML(A_11).ipynb\" target=\"_parent\"><img src=\"https://colab.research.google.com/assets/colab-badge.svg\" alt=\"Open In Colab\"/></a>"
      ]
    },
    {
      "cell_type": "code",
      "execution_count": 1,
      "metadata": {
        "colab": {
          "base_uri": "https://localhost:8080/"
        },
        "id": "ehiExAjaao2n",
        "outputId": "5bdac815-0ab8-4712-ba76-d25014c84bd2"
      },
      "outputs": [
        {
          "output_type": "stream",
          "name": "stdout",
          "text": [
            "Features: Index(['Age', 'Gender', 'Protein1', 'Protein2', 'Protein3', 'Protein4',\n",
            "       'Tumour_Stage', 'Histology', 'ER status', 'PR status', 'HER2 status',\n",
            "       'Surgery_type', 'Date_of_Surgery', 'Date_of_Last_Visit'],\n",
            "      dtype='object')\n",
            "Target variable: Patient_Status\n"
          ]
        }
      ],
      "source": [
        "import pandas as pd\n",
        "from sklearn.preprocessing import LabelEncoder\n",
        "from google.colab import drive # Import the drive module for mounting\n",
        "\n",
        "data = pd.read_csv(\"breast_cancer_survival.csv\")\n",
        "data = data.dropna()\n",
        "\n",
        "X = data.iloc[:, :-1]\n",
        "y = data.iloc[:, -1]\n",
        "\n",
        "for column in X.select_dtypes(include=['object']).columns:\n",
        "    le = LabelEncoder()\n",
        "    X[column] = le.fit_transform(X[column])\n",
        "\n",
        "print(\"Features:\", X.columns)\n",
        "print(\"Target variable:\", y.name)\n",
        "\n"
      ]
    },
    {
      "cell_type": "code",
      "source": [
        "from sklearn.model_selection import train_test_split\n",
        "from sklearn.neighbors import KNeighborsClassifier\n",
        "from sklearn.metrics import accuracy_score\n",
        "from sklearn.preprocessing import StandardScaler\n",
        "\n",
        "scaler = StandardScaler()\n",
        "test_sizes = [20, 25, 30, 35]\n",
        "\n",
        "for test_size in test_sizes:\n",
        "    split = test_size / 100.0\n",
        "    X_train, X_test, y_train, y_test = train_test_split(X, y, test_size=split, random_state=42)\n",
        "    X_train = scaler.fit_transform(X_train)\n",
        "    X_test = scaler.transform(X_test)\n",
        "\n",
        "    knn = KNeighborsClassifier(n_neighbors=5)\n",
        "    knn.fit(X_train, y_train)\n",
        "    y_pred = knn.predict(X_test)\n",
        "    accuracy = accuracy_score(y_test, y_pred)\n",
        "    print(f\"KNN Accuracy with test size {test_size}%: {accuracy:.2f}\")"
      ],
      "metadata": {
        "colab": {
          "base_uri": "https://localhost:8080/"
        },
        "id": "l_TRvAgxa6th",
        "outputId": "f95ecb0b-4b37-4290-f8a6-1421081c4b58"
      },
      "execution_count": 2,
      "outputs": [
        {
          "output_type": "stream",
          "name": "stdout",
          "text": [
            "KNN Accuracy with test size 20%: 0.81\n",
            "KNN Accuracy with test size 25%: 0.79\n",
            "KNN Accuracy with test size 30%: 0.79\n",
            "KNN Accuracy with test size 35%: 0.80\n"
          ]
        }
      ]
    },
    {
      "cell_type": "code",
      "source": [
        "from sklearn.svm import SVC\n",
        "\n",
        "# Train SVM model and evaluate accuracy with different test sizes\n",
        "for test_size in test_sizes:\n",
        "    split = test_size / 100.0\n",
        "    X_train, X_test, y_train, y_test = train_test_split(X, y, test_size=split, random_state=42)\n",
        "    X_train = scaler.fit_transform(X_train)\n",
        "    X_test = scaler.transform(X_test)\n",
        "\n",
        "    svm = SVC(kernel='linear', max_iter=1000)\n",
        "    svm.fit(X_train, y_train)\n",
        "    y_pred = svm.predict(X_test)\n",
        "    accuracy = accuracy_score(y_test, y_pred)\n",
        "    print(f\"SVM Accuracy with test size {test_size}%: {accuracy:.2f}\")\n"
      ],
      "metadata": {
        "colab": {
          "base_uri": "https://localhost:8080/"
        },
        "id": "_2iIvaI1a_y_",
        "outputId": "d24c23be-31a2-4bb5-e53c-17eb2b389f04"
      },
      "execution_count": 3,
      "outputs": [
        {
          "output_type": "stream",
          "name": "stdout",
          "text": [
            "SVM Accuracy with test size 20%: 0.80\n",
            "SVM Accuracy with test size 25%: 0.79\n",
            "SVM Accuracy with test size 30%: 0.79\n",
            "SVM Accuracy with test size 35%: 0.81\n"
          ]
        }
      ]
    },
    {
      "cell_type": "code",
      "source": [
        "from sklearn.linear_model import LogisticRegression\n",
        "\n",
        "for test_size in test_sizes:\n",
        "    split = test_size / 100.0\n",
        "    X_train, X_test, y_train, y_test = train_test_split(X, y, test_size=split, random_state=42)\n",
        "    X_train = scaler.fit_transform(X_train)\n",
        "    X_test = scaler.transform(X_test)\n",
        "\n",
        "    log_reg = LogisticRegression(max_iter=1000)\n",
        "    log_reg.fit(X_train, y_train)\n",
        "    y_pred = log_reg.predict(X_test)\n",
        "    accuracy = accuracy_score(y_test, y_pred)\n",
        "    print(f\"Logistic Regression Accuracy with test size {test_size}%: {accuracy:.2f}\")"
      ],
      "metadata": {
        "colab": {
          "base_uri": "https://localhost:8080/"
        },
        "id": "yMJ13dxnbD-u",
        "outputId": "730ff481-d51d-4328-cf6a-429cf19568cd"
      },
      "execution_count": 4,
      "outputs": [
        {
          "output_type": "stream",
          "name": "stdout",
          "text": [
            "Logistic Regression Accuracy with test size 20%: 0.78\n",
            "Logistic Regression Accuracy with test size 25%: 0.78\n",
            "Logistic Regression Accuracy with test size 30%: 0.78\n",
            "Logistic Regression Accuracy with test size 35%: 0.81\n"
          ]
        }
      ]
    },
    {
      "cell_type": "code",
      "source": [
        "from sklearn.decomposition import PCA\n",
        "\n",
        "pca = PCA(n_components=5)\n",
        "X_reduced = pca.fit_transform(X)\n",
        "\n",
        "for test_size in test_sizes:\n",
        "    split = test_size / 100.0\n",
        "    X_train, X_test, y_train, y_test = train_test_split(X_reduced, y, test_size=split, random_state=42)\n",
        "\n",
        "    knn.fit(X_train, y_train)\n",
        "    y_pred = knn.predict(X_test)\n",
        "    accuracy = accuracy_score(y_test, y_pred)\n",
        "    print(f\"KNN with PCA Accuracy (test size {test_size}%): {accuracy:.2f}\")\n",
        "\n",
        "    svm.fit(X_train, y_train)\n",
        "    y_pred = svm.predict(X_test)\n",
        "    accuracy = accuracy_score(y_test, y_pred)\n",
        "    print(f\"SVM with PCA Accuracy (test size {test_size}%): {accuracy:.2f}\")\n",
        "\n",
        "    log_reg.fit(X_train, y_train)\n",
        "    y_pred = log_reg.predict(X_test)\n",
        "    accuracy = accuracy_score(y_test, y_pred)\n",
        "    print(f\"Logistic Regression with PCA Accuracy (test size {test_size}%): {accuracy:.2f}\")"
      ],
      "metadata": {
        "colab": {
          "base_uri": "https://localhost:8080/"
        },
        "id": "KAdzhr2xbJBo",
        "outputId": "1e86eb7a-ffd0-4738-ede6-c0caa1a9ea90"
      },
      "execution_count": 5,
      "outputs": [
        {
          "output_type": "stream",
          "name": "stdout",
          "text": [
            "KNN with PCA Accuracy (test size 20%): 0.81\n",
            "SVM with PCA Accuracy (test size 20%): 0.66\n",
            "Logistic Regression with PCA Accuracy (test size 20%): 0.80\n",
            "KNN with PCA Accuracy (test size 25%): 0.82\n",
            "SVM with PCA Accuracy (test size 25%): 0.56\n",
            "Logistic Regression with PCA Accuracy (test size 25%): 0.79\n",
            "KNN with PCA Accuracy (test size 30%): 0.81\n",
            "SVM with PCA Accuracy (test size 30%): 0.41\n",
            "Logistic Regression with PCA Accuracy (test size 30%): 0.79\n",
            "KNN with PCA Accuracy (test size 35%): 0.82\n",
            "SVM with PCA Accuracy (test size 35%): 0.34\n"
          ]
        },
        {
          "output_type": "stream",
          "name": "stderr",
          "text": [
            "/usr/local/lib/python3.10/dist-packages/sklearn/svm/_base.py:297: ConvergenceWarning: Solver terminated early (max_iter=1000).  Consider pre-processing your data with StandardScaler or MinMaxScaler.\n",
            "  warnings.warn(\n",
            "/usr/local/lib/python3.10/dist-packages/sklearn/svm/_base.py:297: ConvergenceWarning: Solver terminated early (max_iter=1000).  Consider pre-processing your data with StandardScaler or MinMaxScaler.\n",
            "  warnings.warn(\n",
            "/usr/local/lib/python3.10/dist-packages/sklearn/svm/_base.py:297: ConvergenceWarning: Solver terminated early (max_iter=1000).  Consider pre-processing your data with StandardScaler or MinMaxScaler.\n",
            "  warnings.warn(\n",
            "/usr/local/lib/python3.10/dist-packages/sklearn/svm/_base.py:297: ConvergenceWarning: Solver terminated early (max_iter=1000).  Consider pre-processing your data with StandardScaler or MinMaxScaler.\n",
            "  warnings.warn(\n"
          ]
        },
        {
          "output_type": "stream",
          "name": "stdout",
          "text": [
            "Logistic Regression with PCA Accuracy (test size 35%): 0.81\n"
          ]
        }
      ]
    }
  ]
}